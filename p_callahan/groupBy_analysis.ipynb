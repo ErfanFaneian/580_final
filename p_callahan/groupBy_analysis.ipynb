{
 "cells": [
  {
   "cell_type": "code",
   "execution_count": 1,
   "metadata": {},
   "outputs": [],
   "source": [
    "#import needed python libraries\n",
    "import numpy as np\n",
    "import pandas as pd\n",
    "\n",
    "#import raw data\n",
    "gvData = pd.read_csv(\"stage3.csv\")"
   ]
  },
  {
   "cell_type": "code",
   "execution_count": 4,
   "metadata": {},
   "outputs": [],
   "source": [
    "Inc_Frequencies = gvData.incident_characteristics.str.split('|', expand=True).stack().value_counts().reset_index()\n",
    "Inc_Frequencies.to_csv(r'inc_freq.csv')"
   ]
  },
  {
   "cell_type": "code",
   "execution_count": 5,
   "metadata": {},
   "outputs": [],
   "source": [
    "Inc_Frequencies = gvData.incident_characteristics.str.split('|', expand=True).stack().value_counts().reset_index()\n",
    "Inc_Frequencies.columns = ['Inc Characteristic', 'Count']\n",
    "Inc_Frequencies.to_csv('incident_chars.csv')"
   ]
  },
  {
   "cell_type": "code",
   "execution_count": 9,
   "metadata": {},
   "outputs": [],
   "source": [
    "#get list of states\n",
    "states=[]\n",
    "for state in gvData.state:\n",
    "    if state not in states:\n",
    "        states.append(state)"
   ]
  },
  {
   "cell_type": "code",
   "execution_count": 12,
   "metadata": {},
   "outputs": [
    {
     "data": {
      "text/html": [
       "<div>\n",
       "<style scoped>\n",
       "    .dataframe tbody tr th:only-of-type {\n",
       "        vertical-align: middle;\n",
       "    }\n",
       "\n",
       "    .dataframe tbody tr th {\n",
       "        vertical-align: top;\n",
       "    }\n",
       "\n",
       "    .dataframe thead th {\n",
       "        text-align: right;\n",
       "    }\n",
       "</style>\n",
       "<table border=\"1\" class=\"dataframe\">\n",
       "  <thead>\n",
       "    <tr style=\"text-align: right;\">\n",
       "      <th></th>\n",
       "      <th>Inc Characteristic</th>\n",
       "      <th>Count</th>\n",
       "    </tr>\n",
       "  </thead>\n",
       "  <tbody>\n",
       "    <tr>\n",
       "      <th>0</th>\n",
       "      <td></td>\n",
       "      <td>6036</td>\n",
       "    </tr>\n",
       "    <tr>\n",
       "      <th>1</th>\n",
       "      <td>Shot - Wounded/Injured</td>\n",
       "      <td>2908</td>\n",
       "    </tr>\n",
       "    <tr>\n",
       "      <th>2</th>\n",
       "      <td>Shot - Dead (murder, accidental, suicide)</td>\n",
       "      <td>1294</td>\n",
       "    </tr>\n",
       "    <tr>\n",
       "      <th>3</th>\n",
       "      <td>Shots Fired - No Injuries</td>\n",
       "      <td>791</td>\n",
       "    </tr>\n",
       "    <tr>\n",
       "      <th>4</th>\n",
       "      <td>Non-Shooting Incident</td>\n",
       "      <td>665</td>\n",
       "    </tr>\n",
       "    <tr>\n",
       "      <th>...</th>\n",
       "      <td>...</td>\n",
       "      <td>...</td>\n",
       "    </tr>\n",
       "    <tr>\n",
       "      <th>100</th>\n",
       "      <td>Concealed Carry License - Perpetrator</td>\n",
       "      <td>1</td>\n",
       "    </tr>\n",
       "    <tr>\n",
       "      <th>101</th>\n",
       "      <td>Gun buy back action</td>\n",
       "      <td>1</td>\n",
       "    </tr>\n",
       "    <tr>\n",
       "      <th>102</th>\n",
       "      <td>Officer Involved Shooting - Bystander killed</td>\n",
       "      <td>1</td>\n",
       "    </tr>\n",
       "    <tr>\n",
       "      <th>103</th>\n",
       "      <td>Spree Shooting (multiple victims, multiple loc...</td>\n",
       "      <td>1</td>\n",
       "    </tr>\n",
       "    <tr>\n",
       "      <th>104</th>\n",
       "      <td>Terrorism Involvement</td>\n",
       "      <td>1</td>\n",
       "    </tr>\n",
       "  </tbody>\n",
       "</table>\n",
       "<p>105 rows × 2 columns</p>\n",
       "</div>"
      ],
      "text/plain": [
       "                                    Inc Characteristic  Count\n",
       "0                                                        6036\n",
       "1                               Shot - Wounded/Injured   2908\n",
       "2            Shot - Dead (murder, accidental, suicide)   1294\n",
       "3                            Shots Fired - No Injuries    791\n",
       "4                                Non-Shooting Incident    665\n",
       "..                                                 ...    ...\n",
       "100              Concealed Carry License - Perpetrator      1\n",
       "101                                Gun buy back action      1\n",
       "102       Officer Involved Shooting - Bystander killed      1\n",
       "103  Spree Shooting (multiple victims, multiple loc...      1\n",
       "104                              Terrorism Involvement      1\n",
       "\n",
       "[105 rows x 2 columns]"
      ]
     },
     "execution_count": 12,
     "metadata": {},
     "output_type": "execute_result"
    }
   ],
   "source": [
    "vaData = gvData.loc[gvData['state'] == 'Virginia']\n",
    "Inc_Frequencies = vaData.incident_characteristics.str.split('|', expand=True).stack().value_counts().reset_index()\n",
    "Inc_Frequencies.columns = ['Inc Characteristic', 'Count']\n",
    "Inc_Frequencies.sort_values(by=['Inc Characteristic'])"
   ]
  },
  {
   "cell_type": "code",
   "execution_count": null,
   "metadata": {},
   "outputs": [],
   "source": [
    "for state in states:\n",
    "    stateData = gvData.loc[gvData['state'] == state]\n",
    "    Inc_Frequencies = vaData.incident_characteristics.str.split('|', expand=True).stack().value_counts().reset_index()\n",
    "    Inc_Frequencies.columns = ['Inc Characteristic', 'Count']\n",
    "    Inc_Frequencies\n",
    "    "
   ]
  }
 ],
 "metadata": {
  "kernelspec": {
   "display_name": "Python 3",
   "language": "python",
   "name": "python3"
  },
  "language_info": {
   "codemirror_mode": {
    "name": "ipython",
    "version": 3
   },
   "file_extension": ".py",
   "mimetype": "text/x-python",
   "name": "python",
   "nbconvert_exporter": "python",
   "pygments_lexer": "ipython3",
   "version": "3.8.3"
  }
 },
 "nbformat": 4,
 "nbformat_minor": 4
}

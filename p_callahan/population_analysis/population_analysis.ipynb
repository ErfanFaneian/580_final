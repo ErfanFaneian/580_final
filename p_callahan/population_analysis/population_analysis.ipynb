{
 "cells": [
  {
   "cell_type": "code",
   "execution_count": 1,
   "metadata": {},
   "outputs": [
    {
     "data": {
      "text/html": [
       "<style>.container { width:100% !important; }</style>"
      ],
      "text/plain": [
       "<IPython.core.display.HTML object>"
      ]
     },
     "metadata": {},
     "output_type": "display_data"
    }
   ],
   "source": [
    "#the below two lines of code are only for display purposes when using jupyter notebook. If using another IDE, you can delete the next two lines\n",
    "from IPython.core.display import display, HTML\n",
    "display(HTML(\"<style>.container { width:100% !important; }</style>\"))"
   ]
  },
  {
   "cell_type": "code",
   "execution_count": 5,
   "metadata": {},
   "outputs": [
    {
     "name": "stdout",
     "output_type": "stream",
     "text": [
      "Filtering process eliminated 0.0% of the initial data \n",
      "\n"
     ]
    }
   ],
   "source": [
    "import numpy as np\n",
    "import pandas as pd\n",
    "import altair as alt\n",
    "from altair import datum\n",
    "alt.data_transformers.enable('json')\n",
    "\n",
    "import site\n",
    "import sys\n",
    "site.addsitedir(r'C:\\Users\\pcallahan\\Desktop\\school\\580\\gun-violence-data-master\\p_callahan')\n",
    "import load\n",
    "import geonamescache\n",
    "\n",
    "df = load.Main_Dataset()"
   ]
  },
  {
   "cell_type": "code",
   "execution_count": null,
   "metadata": {},
   "outputs": [],
   "source": [
    "# cico_pop = []\n",
    "# cicos = []\n",
    "# states = []\n",
    "\n",
    "# gc = geonamescache.GeonamesCache()\n",
    "# c = 0\n",
    "\n",
    "# for i in range(len(cico_dat['city_or_county'])):\n",
    "#     search_results = gc.get_cities_by_name(cico_dat['city_or_county'][i])\n",
    "#     for hits in search_results:\n",
    "#         for key in hits.keys():\n",
    "#             if (hits.get(key, {}).get('countrycode') == 'US') and (hits.get(key, {}).get('admin1code') == cico_dat['state_abr'][i]):\n",
    "#                 cico_pop.append(hits.get(key, {}).get('population'))\n",
    "#                 states.append(hits.get(key, {}).get('admin1code'))\n",
    "#                 cicos.append(cico_dat['city_or_county'][i])\n",
    "#     c = c + 1\n",
    "#     p = c/len(cico_dat)*100\n",
    "#     print(str(c) + \" rows processed. \" + str(round(p, 1)) + \"% complete\", end='\\r')\n",
    "# d = {'city_or_county' : cicos, 'state_abr' : states, 'population' : cico_pop}\n",
    "# # cico_dat = pd.DataFrame(d)\n",
    "# rpts_cico_dat = df.groupby(['city_or_county', 'state_abr']).count()\n",
    "# rpts_cico_dat.reset_index(inplace=True)\n",
    "# rpts_cico_dat = rpts_cico_dat.drop(rpts_cico_dat.columns.difference(['city_or_county', 'state_abr', 'incident_id']), 1)\n",
    "# rpts_cico_dat.columns = ['city_or_county', 'state_abr','n_rpts']\n",
    "\n",
    "# df['n_injured'] = df['n_injured'].astype(int)\n",
    "# injs_cico_dat =df.groupby(['city_or_county', 'state_abr'])['n_injured'].sum()\n",
    "# injs_cico_dat = injs_cico_dat.reset_index()\n",
    "\n",
    "# df['n_killed'] = df['n_killed'].astype(int)\n",
    "# kills_cico_dat = df.groupby(['city_or_county', 'state_abr'])['n_killed'].sum()\n",
    "# kills_cico_dat = kills_cico_dat.reset_index()\n",
    "\n",
    "# cico_dat = pd.merge(rpts_cico_dat, injs_cico_dat, on=['city_or_county', 'state_abr'])\n",
    "# cico_dat = pd.merge(cico_dat, kills_cico_dat, on=['city_or_county', 'state_abr'])\n",
    "\n",
    "# cico_dat = pd.merge(cico_dat, injs_cico_dat, on=['city_or_county', 'state_abr'])\n",
    "# cico_dat = pd.merge(cico_dat, rpts_cico_dat, on=['city_or_county', 'state_abr'])\n",
    "# cico_dat = pd.merge(cico_dat, kills_cico_dat, on=['city_or_county', 'state_abr'])\n",
    "# cico_dat.to_csv('cico_dat.csv', index=False)\n",
    "# cico_dat = cico_dat.melt(['city_or_county', 'population', 'state_abr', 'rpt_qnt'], value_vars=['kill_qnt', 'inj_qnt'])\n",
    "# cico_dat.columns = ['city_or_county', 'population', 'state_abr', 'rpt_qnt', 'qnt_type', 'aux_qnt']\n",
    "# cico_dat"
   ]
  },
  {
   "cell_type": "code",
   "execution_count": 18,
   "metadata": {},
   "outputs": [
    {
     "name": "stdout",
     "output_type": "stream",
     "text": [
      "imports completed \n",
      "\n",
      "Filtering process eliminated 0.0% of the initial data \n",
      "\n",
      "city-county data loaded \n",
      "\n"
     ]
    }
   ],
   "source": [
    "print(\"imports completed \\n\")\n",
    "df = load.Main_Dataset()\n",
    "\n",
    "cico_dat = pd.read_csv(r'C:\\Users\\pcallahan\\Desktop\\school\\580\\gun-violence-data-master\\p_callahan\\cico_dat.csv')\n",
    "print(\"city-county data loaded \\n\")\n",
    "cico_dat['inj_qnt'] = cico_dat['n_injured']/cico_dat['population']\n",
    "cico_dat['kill_qnt'] = cico_dat['n_killed']/cico_dat['population']\n",
    "cico_dat['rpt_qnt'] = cico_dat['n_rpts']/cico_dat['population']"
   ]
  },
  {
   "cell_type": "code",
   "execution_count": 9,
   "metadata": {},
   "outputs": [
    {
     "name": "stdout",
     "output_type": "stream",
     "text": [
      "\n",
      "US City/County Populations--- Dataset Stats:\n",
      "Size of US City/County Populations Dataset = 2630\n",
      "Normality Test-->\n",
      "\n",
      "p value = 0.0\n",
      "\n",
      "We reject the null hypothesis that the distribution of values in the 'US City/County Populations' dataset is normal.\n"
     ]
    }
   ],
   "source": [
    "populations = list(cico_dat.population)\n",
    "\n",
    "load.normaltest_Print(populations, 'US City/County Populations')"
   ]
  },
  {
   "cell_type": "code",
   "execution_count": 10,
   "metadata": {},
   "outputs": [
    {
     "data": {
      "text/html": [
       "\n",
       "<div id=\"altair-viz-4ad899e3c2ba4e0386f27156fb3ac8e5\"></div>\n",
       "<script type=\"text/javascript\">\n",
       "  (function(spec, embedOpt){\n",
       "    let outputDiv = document.currentScript.previousElementSibling;\n",
       "    if (outputDiv.id !== \"altair-viz-4ad899e3c2ba4e0386f27156fb3ac8e5\") {\n",
       "      outputDiv = document.getElementById(\"altair-viz-4ad899e3c2ba4e0386f27156fb3ac8e5\");\n",
       "    }\n",
       "    const paths = {\n",
       "      \"vega\": \"https://cdn.jsdelivr.net/npm//vega@5?noext\",\n",
       "      \"vega-lib\": \"https://cdn.jsdelivr.net/npm//vega-lib?noext\",\n",
       "      \"vega-lite\": \"https://cdn.jsdelivr.net/npm//vega-lite@4.8.1?noext\",\n",
       "      \"vega-embed\": \"https://cdn.jsdelivr.net/npm//vega-embed@6?noext\",\n",
       "    };\n",
       "\n",
       "    function loadScript(lib) {\n",
       "      return new Promise(function(resolve, reject) {\n",
       "        var s = document.createElement('script');\n",
       "        s.src = paths[lib];\n",
       "        s.async = true;\n",
       "        s.onload = () => resolve(paths[lib]);\n",
       "        s.onerror = () => reject(`Error loading script: ${paths[lib]}`);\n",
       "        document.getElementsByTagName(\"head\")[0].appendChild(s);\n",
       "      });\n",
       "    }\n",
       "\n",
       "    function showError(err) {\n",
       "      outputDiv.innerHTML = `<div class=\"error\" style=\"color:red;\">${err}</div>`;\n",
       "      throw err;\n",
       "    }\n",
       "\n",
       "    function displayChart(vegaEmbed) {\n",
       "      vegaEmbed(outputDiv, spec, embedOpt)\n",
       "        .catch(err => showError(`Javascript Error: ${err.message}<br>This usually means there's a typo in your chart specification. See the javascript console for the full traceback.`));\n",
       "    }\n",
       "\n",
       "    if(typeof define === \"function\" && define.amd) {\n",
       "      requirejs.config({paths});\n",
       "      require([\"vega-embed\"], displayChart, err => showError(`Error loading script: ${err.message}`));\n",
       "    } else if (typeof vegaEmbed === \"function\") {\n",
       "      displayChart(vegaEmbed);\n",
       "    } else {\n",
       "      loadScript(\"vega\")\n",
       "        .then(() => loadScript(\"vega-lite\"))\n",
       "        .then(() => loadScript(\"vega-embed\"))\n",
       "        .catch(showError)\n",
       "        .then(() => displayChart(vegaEmbed));\n",
       "    }\n",
       "  })({\"config\": {\"view\": {\"continuousWidth\": 400, \"continuousHeight\": 300}}, \"data\": {\"url\": \"altair-data-53ff8c0d2fd303b2126fdb263a2416af.json\", \"format\": {\"type\": \"json\"}}, \"mark\": \"bar\", \"encoding\": {\"x\": {\"type\": \"quantitative\", \"bin\": {\"extent\": [0, 1000000], \"step\": 25000}, \"field\": \"population\", \"scale\": {\"domain\": [0, 1000000]}}, \"y\": {\"type\": \"quantitative\", \"aggregate\": \"count\"}}, \"height\": 300, \"title\": \"Distribution of US City/County Populations\", \"width\": 500, \"$schema\": \"https://vega.github.io/schema/vega-lite/v4.8.1.json\"}, {\"mode\": \"vega-lite\"});\n",
       "</script>"
      ],
      "text/plain": [
       "alt.Chart(...)"
      ]
     },
     "execution_count": 10,
     "metadata": {},
     "output_type": "execute_result"
    }
   ],
   "source": [
    "alt.Chart(cico_dat).mark_bar().encode(\n",
    "    alt.X('population:Q',\n",
    "         scale = alt.Scale(domain=(0,1000000)),\n",
    "         bin=alt.Bin(extent=[0,1000000], step = 25000)),\n",
    "    y = 'count():Q'\n",
    ").properties(\n",
    "    height = 300,\n",
    "    width = 500,\n",
    "    title ='Distribution of US City/County Populations'\n",
    ")"
   ]
  },
  {
   "cell_type": "code",
   "execution_count": 12,
   "metadata": {},
   "outputs": [
    {
     "data": {
      "text/html": [
       "\n",
       "<div id=\"altair-viz-293f3bc4eb624e3aacc3b1dcb5aa81c6\"></div>\n",
       "<script type=\"text/javascript\">\n",
       "  (function(spec, embedOpt){\n",
       "    let outputDiv = document.currentScript.previousElementSibling;\n",
       "    if (outputDiv.id !== \"altair-viz-293f3bc4eb624e3aacc3b1dcb5aa81c6\") {\n",
       "      outputDiv = document.getElementById(\"altair-viz-293f3bc4eb624e3aacc3b1dcb5aa81c6\");\n",
       "    }\n",
       "    const paths = {\n",
       "      \"vega\": \"https://cdn.jsdelivr.net/npm//vega@5?noext\",\n",
       "      \"vega-lib\": \"https://cdn.jsdelivr.net/npm//vega-lib?noext\",\n",
       "      \"vega-lite\": \"https://cdn.jsdelivr.net/npm//vega-lite@4.8.1?noext\",\n",
       "      \"vega-embed\": \"https://cdn.jsdelivr.net/npm//vega-embed@6?noext\",\n",
       "    };\n",
       "\n",
       "    function loadScript(lib) {\n",
       "      return new Promise(function(resolve, reject) {\n",
       "        var s = document.createElement('script');\n",
       "        s.src = paths[lib];\n",
       "        s.async = true;\n",
       "        s.onload = () => resolve(paths[lib]);\n",
       "        s.onerror = () => reject(`Error loading script: ${paths[lib]}`);\n",
       "        document.getElementsByTagName(\"head\")[0].appendChild(s);\n",
       "      });\n",
       "    }\n",
       "\n",
       "    function showError(err) {\n",
       "      outputDiv.innerHTML = `<div class=\"error\" style=\"color:red;\">${err}</div>`;\n",
       "      throw err;\n",
       "    }\n",
       "\n",
       "    function displayChart(vegaEmbed) {\n",
       "      vegaEmbed(outputDiv, spec, embedOpt)\n",
       "        .catch(err => showError(`Javascript Error: ${err.message}<br>This usually means there's a typo in your chart specification. See the javascript console for the full traceback.`));\n",
       "    }\n",
       "\n",
       "    if(typeof define === \"function\" && define.amd) {\n",
       "      requirejs.config({paths});\n",
       "      require([\"vega-embed\"], displayChart, err => showError(`Error loading script: ${err.message}`));\n",
       "    } else if (typeof vegaEmbed === \"function\") {\n",
       "      displayChart(vegaEmbed);\n",
       "    } else {\n",
       "      loadScript(\"vega\")\n",
       "        .then(() => loadScript(\"vega-lite\"))\n",
       "        .then(() => loadScript(\"vega-embed\"))\n",
       "        .catch(showError)\n",
       "        .then(() => displayChart(vegaEmbed));\n",
       "    }\n",
       "  })({\"config\": {\"view\": {\"continuousWidth\": 400, \"continuousHeight\": 300}}, \"data\": {\"url\": \"altair-data-5521b2f7fecc3b178c847ded661d8d29.json\", \"format\": {\"type\": \"json\"}}, \"mark\": \"bar\", \"encoding\": {\"x\": {\"type\": \"nominal\", \"field\": \"state\", \"sort\": [\"District of Columbia\", \"Alaska\", \"Louisiana\", \"Delaware\", \"Illinois\", \"South Carolina\", \"Mississippi\", \"Tennessee\", \"Alabama\", \"Missouri\", \"Maryland\", \"Arkansas\", \"Kentucky\", \"West Virginia\", \"Ohio\", \"Oklahoma\", \"Indiana\", \"Massachusetts\", \"Connecticut\", \"Wyoming\", \"Nebraska\", \"Rhode Island\", \"Georgia\", \"North Carolina\", \"Wisconsin\", \"Iowa\", \"New Mexico\", \"Vermont\", \"North Dakota\", \"Kansas\", \"New Hampshire\", \"Florida\", \"Pennsylvania\", \"Virginia\", \"Maine\", \"Nevada\", \"South Dakota\", \"Michigan\", \"New Jersey\", \"Montana\", \"Colorado\", \"Oregon\", \"New York\", \"Texas\", \"Washington\", \"Minnesota\", \"California\", \"Idaho\", \"Utah\", \"Arizona\", \"Hawaii\"]}, \"y\": {\"type\": \"quantitative\", \"field\": \"pop_quotient\"}}, \"title\": \"Report-Count-over-Population Quotient by US State\", \"transform\": [{\"filter\": \"(datum['qnt_type'] === 'rpt_qnt')\"}], \"$schema\": \"https://vega.github.io/schema/vega-lite/v4.8.1.json\"}, {\"mode\": \"vega-lite\"});\n",
       "</script>"
      ],
      "text/plain": [
       "alt.Chart(...)"
      ]
     },
     "execution_count": 12,
     "metadata": {},
     "output_type": "execute_result"
    }
   ],
   "source": [
    "kqs = gBy_state[gBy_state['qnt_type']=='kill_qnt']\n",
    "kqs = kqs.sort_values(by='pop_quotient', ascending=False)\n",
    "kqs.reset_index(inplace=True, drop=False)\n",
    "\n",
    "rqs = gBy_state[gBy_state['qnt_type']=='rpt_qnt']\n",
    "rqs = rqs.sort_values(by='pop_quotient', ascending=False)\n",
    "rqs.reset_index(inplace=True, drop=False)\n",
    "\n",
    "iqs = gBy_state[gBy_state['qnt_type']=='inj_qnt']\n",
    "iqs = iqs.sort_values(by='pop_quotient', ascending=False)\n",
    "iqs.reset_index(inplace=True, drop=False)\n",
    "\n",
    "rpt_sort = list(rqs.state)\n",
    "kill_sort = list(kqs.state)\n",
    "inj_sort = list(iqs.state)\n",
    "\n",
    "alt.Chart(gBy_state).mark_bar().encode(\n",
    "    alt.X('state:N', sort = rpt_sort),\n",
    "    y = 'pop_quotient:Q',\n",
    ").properties(\n",
    "    title='Report-Count-over-Population Quotient by US State'\n",
    ").transform_filter(\n",
    "    (datum['qnt_type']=='rpt_qnt')\n",
    ")"
   ]
  },
  {
   "cell_type": "code",
   "execution_count": 14,
   "metadata": {},
   "outputs": [
    {
     "data": {
      "text/html": [
       "\n",
       "<div id=\"altair-viz-75a239a02ce74c0ca2c0e75203c870b8\"></div>\n",
       "<script type=\"text/javascript\">\n",
       "  (function(spec, embedOpt){\n",
       "    let outputDiv = document.currentScript.previousElementSibling;\n",
       "    if (outputDiv.id !== \"altair-viz-75a239a02ce74c0ca2c0e75203c870b8\") {\n",
       "      outputDiv = document.getElementById(\"altair-viz-75a239a02ce74c0ca2c0e75203c870b8\");\n",
       "    }\n",
       "    const paths = {\n",
       "      \"vega\": \"https://cdn.jsdelivr.net/npm//vega@5?noext\",\n",
       "      \"vega-lib\": \"https://cdn.jsdelivr.net/npm//vega-lib?noext\",\n",
       "      \"vega-lite\": \"https://cdn.jsdelivr.net/npm//vega-lite@4.8.1?noext\",\n",
       "      \"vega-embed\": \"https://cdn.jsdelivr.net/npm//vega-embed@6?noext\",\n",
       "    };\n",
       "\n",
       "    function loadScript(lib) {\n",
       "      return new Promise(function(resolve, reject) {\n",
       "        var s = document.createElement('script');\n",
       "        s.src = paths[lib];\n",
       "        s.async = true;\n",
       "        s.onload = () => resolve(paths[lib]);\n",
       "        s.onerror = () => reject(`Error loading script: ${paths[lib]}`);\n",
       "        document.getElementsByTagName(\"head\")[0].appendChild(s);\n",
       "      });\n",
       "    }\n",
       "\n",
       "    function showError(err) {\n",
       "      outputDiv.innerHTML = `<div class=\"error\" style=\"color:red;\">${err}</div>`;\n",
       "      throw err;\n",
       "    }\n",
       "\n",
       "    function displayChart(vegaEmbed) {\n",
       "      vegaEmbed(outputDiv, spec, embedOpt)\n",
       "        .catch(err => showError(`Javascript Error: ${err.message}<br>This usually means there's a typo in your chart specification. See the javascript console for the full traceback.`));\n",
       "    }\n",
       "\n",
       "    if(typeof define === \"function\" && define.amd) {\n",
       "      requirejs.config({paths});\n",
       "      require([\"vega-embed\"], displayChart, err => showError(`Error loading script: ${err.message}`));\n",
       "    } else if (typeof vegaEmbed === \"function\") {\n",
       "      displayChart(vegaEmbed);\n",
       "    } else {\n",
       "      loadScript(\"vega\")\n",
       "        .then(() => loadScript(\"vega-lite\"))\n",
       "        .then(() => loadScript(\"vega-embed\"))\n",
       "        .catch(showError)\n",
       "        .then(() => displayChart(vegaEmbed));\n",
       "    }\n",
       "  })({\"config\": {\"view\": {\"continuousWidth\": 400, \"continuousHeight\": 300}}, \"data\": {\"url\": \"altair-data-5521b2f7fecc3b178c847ded661d8d29.json\", \"format\": {\"type\": \"json\"}}, \"mark\": \"bar\", \"encoding\": {\"x\": {\"type\": \"nominal\", \"field\": \"state\", \"sort\": [\"District of Columbia\", \"Illinois\", \"Louisiana\", \"Delaware\", \"Tennessee\", \"Mississippi\", \"Alabama\", \"South Carolina\", \"Missouri\", \"Maryland\", \"Ohio\", \"Arkansas\", \"Alaska\", \"North Carolina\", \"Indiana\", \"Kentucky\", \"Virginia\", \"Pennsylvania\", \"Oklahoma\", \"Georgia\", \"Wisconsin\", \"West Virginia\", \"Connecticut\", \"Nebraska\", \"Florida\", \"Rhode Island\", \"Kansas\", \"Nevada\", \"Michigan\", \"New Jersey\", \"Iowa\", \"New York\", \"New Mexico\", \"Massachusetts\", \"Texas\", \"Colorado\", \"California\", \"North Dakota\", \"Washington\", \"Oregon\", \"Minnesota\", \"Arizona\", \"South Dakota\", \"Montana\", \"Utah\", \"Vermont\", \"New Hampshire\", \"Maine\", \"Wyoming\", \"Idaho\", \"Hawaii\"]}, \"y\": {\"type\": \"quantitative\", \"field\": \"pop_quotient\"}}, \"title\": \"Injury-Count-over-Population Quotient by US State\", \"transform\": [{\"filter\": \"(datum['qnt_type'] === 'inj_qnt')\"}], \"$schema\": \"https://vega.github.io/schema/vega-lite/v4.8.1.json\"}, {\"mode\": \"vega-lite\"});\n",
       "</script>"
      ],
      "text/plain": [
       "alt.Chart(...)"
      ]
     },
     "execution_count": 14,
     "metadata": {},
     "output_type": "execute_result"
    }
   ],
   "source": [
    "alt.Chart(gBy_state).mark_bar().encode(\n",
    "    alt.X('state:N', sort = inj_sort),\n",
    "    y = 'pop_quotient:Q',\n",
    ").properties(\n",
    "    title='Injury-Count-over-Population Quotient by US State'\n",
    ").transform_filter(\n",
    "    (datum['qnt_type']=='inj_qnt')\n",
    ")"
   ]
  },
  {
   "cell_type": "code",
   "execution_count": 15,
   "metadata": {},
   "outputs": [
    {
     "data": {
      "text/html": [
       "\n",
       "<div id=\"altair-viz-0fe90aa89e4a452591f8fcbaaec57bbf\"></div>\n",
       "<script type=\"text/javascript\">\n",
       "  (function(spec, embedOpt){\n",
       "    let outputDiv = document.currentScript.previousElementSibling;\n",
       "    if (outputDiv.id !== \"altair-viz-0fe90aa89e4a452591f8fcbaaec57bbf\") {\n",
       "      outputDiv = document.getElementById(\"altair-viz-0fe90aa89e4a452591f8fcbaaec57bbf\");\n",
       "    }\n",
       "    const paths = {\n",
       "      \"vega\": \"https://cdn.jsdelivr.net/npm//vega@5?noext\",\n",
       "      \"vega-lib\": \"https://cdn.jsdelivr.net/npm//vega-lib?noext\",\n",
       "      \"vega-lite\": \"https://cdn.jsdelivr.net/npm//vega-lite@4.8.1?noext\",\n",
       "      \"vega-embed\": \"https://cdn.jsdelivr.net/npm//vega-embed@6?noext\",\n",
       "    };\n",
       "\n",
       "    function loadScript(lib) {\n",
       "      return new Promise(function(resolve, reject) {\n",
       "        var s = document.createElement('script');\n",
       "        s.src = paths[lib];\n",
       "        s.async = true;\n",
       "        s.onload = () => resolve(paths[lib]);\n",
       "        s.onerror = () => reject(`Error loading script: ${paths[lib]}`);\n",
       "        document.getElementsByTagName(\"head\")[0].appendChild(s);\n",
       "      });\n",
       "    }\n",
       "\n",
       "    function showError(err) {\n",
       "      outputDiv.innerHTML = `<div class=\"error\" style=\"color:red;\">${err}</div>`;\n",
       "      throw err;\n",
       "    }\n",
       "\n",
       "    function displayChart(vegaEmbed) {\n",
       "      vegaEmbed(outputDiv, spec, embedOpt)\n",
       "        .catch(err => showError(`Javascript Error: ${err.message}<br>This usually means there's a typo in your chart specification. See the javascript console for the full traceback.`));\n",
       "    }\n",
       "\n",
       "    if(typeof define === \"function\" && define.amd) {\n",
       "      requirejs.config({paths});\n",
       "      require([\"vega-embed\"], displayChart, err => showError(`Error loading script: ${err.message}`));\n",
       "    } else if (typeof vegaEmbed === \"function\") {\n",
       "      displayChart(vegaEmbed);\n",
       "    } else {\n",
       "      loadScript(\"vega\")\n",
       "        .then(() => loadScript(\"vega-lite\"))\n",
       "        .then(() => loadScript(\"vega-embed\"))\n",
       "        .catch(showError)\n",
       "        .then(() => displayChart(vegaEmbed));\n",
       "    }\n",
       "  })({\"config\": {\"view\": {\"continuousWidth\": 400, \"continuousHeight\": 300}}, \"data\": {\"url\": \"altair-data-5521b2f7fecc3b178c847ded661d8d29.json\", \"format\": {\"type\": \"json\"}}, \"mark\": \"bar\", \"encoding\": {\"x\": {\"type\": \"nominal\", \"field\": \"state\", \"sort\": [\"District of Columbia\", \"Louisiana\", \"Mississippi\", \"Alabama\", \"Alaska\", \"Missouri\", \"South Carolina\", \"Maryland\", \"Illinois\", \"Tennessee\", \"Nevada\", \"Arkansas\", \"Indiana\", \"Kentucky\", \"Oklahoma\", \"New Mexico\", \"Georgia\", \"Delaware\", \"Ohio\", \"North Carolina\", \"Pennsylvania\", \"West Virginia\", \"Kansas\", \"Florida\", \"Texas\", \"Virginia\", \"Michigan\", \"Arizona\", \"Wisconsin\", \"Montana\", \"California\", \"Colorado\", \"New Jersey\", \"Wyoming\", \"Nebraska\", \"Washington\", \"Oregon\", \"South Dakota\", \"Connecticut\", \"Idaho\", \"Vermont\", \"North Dakota\", \"Utah\", \"New York\", \"Iowa\", \"Maine\", \"Minnesota\", \"Massachusetts\", \"New Hampshire\", \"Rhode Island\", \"Hawaii\"]}, \"y\": {\"type\": \"quantitative\", \"field\": \"pop_quotient\"}}, \"title\": \"Death-Count-over-Population Quotient by US State\", \"transform\": [{\"filter\": \"(datum['qnt_type'] === 'kill_qnt')\"}], \"$schema\": \"https://vega.github.io/schema/vega-lite/v4.8.1.json\"}, {\"mode\": \"vega-lite\"});\n",
       "</script>"
      ],
      "text/plain": [
       "alt.Chart(...)"
      ]
     },
     "execution_count": 15,
     "metadata": {},
     "output_type": "execute_result"
    }
   ],
   "source": [
    "alt.Chart(gBy_state).mark_bar().encode(\n",
    "    alt.X('state:N', sort = kill_sort),\n",
    "    y = 'pop_quotient:Q',\n",
    ").properties(\n",
    "    title='Death-Count-over-Population Quotient by US State'\n",
    ").transform_filter(\n",
    "    (datum['qnt_type']=='kill_qnt')\n",
    ")"
   ]
  },
  {
   "cell_type": "code",
   "execution_count": 21,
   "metadata": {},
   "outputs": [
    {
     "data": {
      "text/html": [
       "\n",
       "<div id=\"altair-viz-77f8c99c0d1c403b8de1a84f714b0bc2\"></div>\n",
       "<script type=\"text/javascript\">\n",
       "  (function(spec, embedOpt){\n",
       "    let outputDiv = document.currentScript.previousElementSibling;\n",
       "    if (outputDiv.id !== \"altair-viz-77f8c99c0d1c403b8de1a84f714b0bc2\") {\n",
       "      outputDiv = document.getElementById(\"altair-viz-77f8c99c0d1c403b8de1a84f714b0bc2\");\n",
       "    }\n",
       "    const paths = {\n",
       "      \"vega\": \"https://cdn.jsdelivr.net/npm//vega@5?noext\",\n",
       "      \"vega-lib\": \"https://cdn.jsdelivr.net/npm//vega-lib?noext\",\n",
       "      \"vega-lite\": \"https://cdn.jsdelivr.net/npm//vega-lite@4.8.1?noext\",\n",
       "      \"vega-embed\": \"https://cdn.jsdelivr.net/npm//vega-embed@6?noext\",\n",
       "    };\n",
       "\n",
       "    function loadScript(lib) {\n",
       "      return new Promise(function(resolve, reject) {\n",
       "        var s = document.createElement('script');\n",
       "        s.src = paths[lib];\n",
       "        s.async = true;\n",
       "        s.onload = () => resolve(paths[lib]);\n",
       "        s.onerror = () => reject(`Error loading script: ${paths[lib]}`);\n",
       "        document.getElementsByTagName(\"head\")[0].appendChild(s);\n",
       "      });\n",
       "    }\n",
       "\n",
       "    function showError(err) {\n",
       "      outputDiv.innerHTML = `<div class=\"error\" style=\"color:red;\">${err}</div>`;\n",
       "      throw err;\n",
       "    }\n",
       "\n",
       "    function displayChart(vegaEmbed) {\n",
       "      vegaEmbed(outputDiv, spec, embedOpt)\n",
       "        .catch(err => showError(`Javascript Error: ${err.message}<br>This usually means there's a typo in your chart specification. See the javascript console for the full traceback.`));\n",
       "    }\n",
       "\n",
       "    if(typeof define === \"function\" && define.amd) {\n",
       "      requirejs.config({paths});\n",
       "      require([\"vega-embed\"], displayChart, err => showError(`Error loading script: ${err.message}`));\n",
       "    } else if (typeof vegaEmbed === \"function\") {\n",
       "      displayChart(vegaEmbed);\n",
       "    } else {\n",
       "      loadScript(\"vega\")\n",
       "        .then(() => loadScript(\"vega-lite\"))\n",
       "        .then(() => loadScript(\"vega-embed\"))\n",
       "        .catch(showError)\n",
       "        .then(() => displayChart(vegaEmbed));\n",
       "    }\n",
       "  })({\"config\": {\"view\": {\"continuousWidth\": 400, \"continuousHeight\": 300}}, \"data\": {\"url\": \"altair-data-5521b2f7fecc3b178c847ded661d8d29.json\", \"format\": {\"type\": \"json\"}}, \"mark\": \"bar\", \"encoding\": {\"column\": {\"type\": \"nominal\", \"field\": \"state\"}, \"x\": {\"type\": \"nominal\", \"field\": \"qnt_type\"}, \"y\": {\"type\": \"quantitative\", \"aggregate\": \"sum\", \"field\": \"pop_quotient\"}}, \"$schema\": \"https://vega.github.io/schema/vega-lite/v4.8.1.json\"}, {\"mode\": \"vega-lite\"});\n",
       "</script>"
      ],
      "text/plain": [
       "alt.Chart(...)"
      ]
     },
     "execution_count": 21,
     "metadata": {},
     "output_type": "execute_result"
    }
   ],
   "source": [
    "df['n_killed'] = df['n_killed'].astype(int)\n",
    "df['n_injured'] = df['n_injured'].astype(int)\n",
    "\n",
    "ctrecs_by_state = df.groupby(['state','state_pop','vega_state_id']).count()\n",
    "ctrecs_by_state.reset_index(inplace=True)\n",
    "ctrecs_by_state.drop(ctrecs_by_state.columns.difference(['state','state_pop', 'incident_id']), 1, inplace=True)\n",
    "ctrecs_by_state.columns = ['state','state_pop', 'report_count']\n",
    "ctrecs_by_state['rpt_qnt'] = ctrecs_by_state['report_count']/ctrecs_by_state['state_pop']\n",
    "\n",
    "sumkilled_by_state = df.groupby(['state', 'state_pop','vega_state_id'])['n_killed'].sum()\n",
    "sumkilled_by_state = sumkilled_by_state.reset_index()\n",
    "sumkilled_by_state['kill_qnt'] = sumkilled_by_state['n_killed']/sumkilled_by_state['state_pop']\n",
    "\n",
    "suminj_by_state = df.groupby(['state', 'state_pop'])['n_injured'].sum()\n",
    "suminj_by_state = suminj_by_state.reset_index()\n",
    "suminj_by_state['inj_qnt'] = suminj_by_state['n_injured']/suminj_by_state['state_pop']\n",
    "\n",
    "gBy_state = pd.merge(ctrecs_by_state, sumkilled_by_state, on=['state','state_pop'])\n",
    "gBy_state = pd.merge(gBy_state, suminj_by_state, on=['state','state_pop'])\n",
    "# gBy_state = pd.merge(ctrecs_by_state, sumkilled_by_state, on=['state','state_pop'])\n",
    "gBy_state.reset_index(inplace=True, drop=True)\n",
    "gBy_state = gBy_state.melt(['state', 'state_pop','vega_state_id'], value_vars=['rpt_qnt', 'kill_qnt', 'inj_qnt'])\n",
    "# gBy_state = gBy_state.melt(['state', 'state_pop','vega_state_id'], value_vars=['rpt_qnt', 'kill_qnt'])\n",
    "\n",
    "gBy_state.columns = ['state', 'state_pop','vega_state_id', 'qnt_type', 'pop_quotient']\n",
    "\n",
    "alt.Chart(gBy_state).mark_bar().encode(\n",
    "    x = 'qnt_type:N',\n",
    "    y = 'sum(pop_quotient):Q',\n",
    "    column = 'state:N'\n",
    ")"
   ]
  },
  {
   "cell_type": "code",
   "execution_count": 22,
   "metadata": {},
   "outputs": [
    {
     "name": "stdout",
     "output_type": "stream",
     "text": [
      "The null hypothesis is that values in the 'Injury Quotient by US City/County' dataset do not correlate with the values in the 'Gun-Crime-Report Quotient by US City/County' dataset. \n",
      "\n",
      "We reject the null hypothesis. \n",
      "\n",
      "Spearman's R Correlation Coeffecient = 0.8708185021525694\n",
      "p value = 0.0\n",
      "\n"
     ]
    },
    {
     "data": {
      "text/html": [
       "\n",
       "<div id=\"altair-viz-88c4f625871a4382bc44e4a72d903808\"></div>\n",
       "<script type=\"text/javascript\">\n",
       "  (function(spec, embedOpt){\n",
       "    let outputDiv = document.currentScript.previousElementSibling;\n",
       "    if (outputDiv.id !== \"altair-viz-88c4f625871a4382bc44e4a72d903808\") {\n",
       "      outputDiv = document.getElementById(\"altair-viz-88c4f625871a4382bc44e4a72d903808\");\n",
       "    }\n",
       "    const paths = {\n",
       "      \"vega\": \"https://cdn.jsdelivr.net/npm//vega@5?noext\",\n",
       "      \"vega-lib\": \"https://cdn.jsdelivr.net/npm//vega-lib?noext\",\n",
       "      \"vega-lite\": \"https://cdn.jsdelivr.net/npm//vega-lite@4.8.1?noext\",\n",
       "      \"vega-embed\": \"https://cdn.jsdelivr.net/npm//vega-embed@6?noext\",\n",
       "    };\n",
       "\n",
       "    function loadScript(lib) {\n",
       "      return new Promise(function(resolve, reject) {\n",
       "        var s = document.createElement('script');\n",
       "        s.src = paths[lib];\n",
       "        s.async = true;\n",
       "        s.onload = () => resolve(paths[lib]);\n",
       "        s.onerror = () => reject(`Error loading script: ${paths[lib]}`);\n",
       "        document.getElementsByTagName(\"head\")[0].appendChild(s);\n",
       "      });\n",
       "    }\n",
       "\n",
       "    function showError(err) {\n",
       "      outputDiv.innerHTML = `<div class=\"error\" style=\"color:red;\">${err}</div>`;\n",
       "      throw err;\n",
       "    }\n",
       "\n",
       "    function displayChart(vegaEmbed) {\n",
       "      vegaEmbed(outputDiv, spec, embedOpt)\n",
       "        .catch(err => showError(`Javascript Error: ${err.message}<br>This usually means there's a typo in your chart specification. See the javascript console for the full traceback.`));\n",
       "    }\n",
       "\n",
       "    if(typeof define === \"function\" && define.amd) {\n",
       "      requirejs.config({paths});\n",
       "      require([\"vega-embed\"], displayChart, err => showError(`Error loading script: ${err.message}`));\n",
       "    } else if (typeof vegaEmbed === \"function\") {\n",
       "      displayChart(vegaEmbed);\n",
       "    } else {\n",
       "      loadScript(\"vega\")\n",
       "        .then(() => loadScript(\"vega-lite\"))\n",
       "        .then(() => loadScript(\"vega-embed\"))\n",
       "        .catch(showError)\n",
       "        .then(() => displayChart(vegaEmbed));\n",
       "    }\n",
       "  })({\"config\": {\"view\": {\"continuousWidth\": 400, \"continuousHeight\": 300}}, \"data\": {\"url\": \"altair-data-53ff8c0d2fd303b2126fdb263a2416af.json\", \"format\": {\"type\": \"json\"}}, \"mark\": \"circle\", \"encoding\": {\"tooltip\": [{\"type\": \"nominal\", \"field\": \"city_or_county\"}, {\"type\": \"nominal\", \"field\": \"state_abr\"}, {\"type\": \"quantitative\", \"field\": \"population\"}], \"x\": {\"type\": \"quantitative\", \"field\": \"rpt_qnt\"}, \"y\": {\"type\": \"quantitative\", \"field\": \"inj_qnt\"}}, \"height\": 250, \"title\": \"Injured Qnt by Report Qnt of US City/County\", \"width\": 500, \"$schema\": \"https://vega.github.io/schema/vega-lite/v4.8.1.json\"}, {\"mode\": \"vega-lite\"});\n",
       "</script>"
      ],
      "text/plain": [
       "alt.Chart(...)"
      ]
     },
     "execution_count": 22,
     "metadata": {},
     "output_type": "execute_result"
    }
   ],
   "source": [
    "load.spearmantest_Print(list(cico_dat.rpt_qnt), list(cico_dat.inj_qnt), 'Injury Quotient by US City/County','Gun-Crime-Report Quotient by US City/County')\n",
    "\n",
    "alt.Chart(cico_dat).mark_circle().encode(\n",
    "    x = 'rpt_qnt:Q',\n",
    "    y = 'inj_qnt:Q',\n",
    "    tooltip = ['city_or_county:N','state_abr:N', 'population:Q']\n",
    ").properties(\n",
    "    width = 500,\n",
    "    height = 250,\n",
    "    title = 'Injured Qnt by Report Qnt of US City/County'\n",
    ")"
   ]
  },
  {
   "cell_type": "code",
   "execution_count": 23,
   "metadata": {},
   "outputs": [
    {
     "name": "stdout",
     "output_type": "stream",
     "text": [
      "The null hypothesis is that values in the 'Kill Quotient by US City/County' dataset do not correlate with the values in the 'Gun-Crime-Report Quotient by US City/County' dataset. \n",
      "\n",
      "We reject the null hypothesis. \n",
      "\n",
      "Spearman's R Correlation Coeffecient = 0.7808077375506044\n",
      "p value = 0.0\n",
      "\n"
     ]
    },
    {
     "data": {
      "text/html": [
       "\n",
       "<div id=\"altair-viz-b284d82333f44a8582c9f4a1c256d9b4\"></div>\n",
       "<script type=\"text/javascript\">\n",
       "  (function(spec, embedOpt){\n",
       "    let outputDiv = document.currentScript.previousElementSibling;\n",
       "    if (outputDiv.id !== \"altair-viz-b284d82333f44a8582c9f4a1c256d9b4\") {\n",
       "      outputDiv = document.getElementById(\"altair-viz-b284d82333f44a8582c9f4a1c256d9b4\");\n",
       "    }\n",
       "    const paths = {\n",
       "      \"vega\": \"https://cdn.jsdelivr.net/npm//vega@5?noext\",\n",
       "      \"vega-lib\": \"https://cdn.jsdelivr.net/npm//vega-lib?noext\",\n",
       "      \"vega-lite\": \"https://cdn.jsdelivr.net/npm//vega-lite@4.8.1?noext\",\n",
       "      \"vega-embed\": \"https://cdn.jsdelivr.net/npm//vega-embed@6?noext\",\n",
       "    };\n",
       "\n",
       "    function loadScript(lib) {\n",
       "      return new Promise(function(resolve, reject) {\n",
       "        var s = document.createElement('script');\n",
       "        s.src = paths[lib];\n",
       "        s.async = true;\n",
       "        s.onload = () => resolve(paths[lib]);\n",
       "        s.onerror = () => reject(`Error loading script: ${paths[lib]}`);\n",
       "        document.getElementsByTagName(\"head\")[0].appendChild(s);\n",
       "      });\n",
       "    }\n",
       "\n",
       "    function showError(err) {\n",
       "      outputDiv.innerHTML = `<div class=\"error\" style=\"color:red;\">${err}</div>`;\n",
       "      throw err;\n",
       "    }\n",
       "\n",
       "    function displayChart(vegaEmbed) {\n",
       "      vegaEmbed(outputDiv, spec, embedOpt)\n",
       "        .catch(err => showError(`Javascript Error: ${err.message}<br>This usually means there's a typo in your chart specification. See the javascript console for the full traceback.`));\n",
       "    }\n",
       "\n",
       "    if(typeof define === \"function\" && define.amd) {\n",
       "      requirejs.config({paths});\n",
       "      require([\"vega-embed\"], displayChart, err => showError(`Error loading script: ${err.message}`));\n",
       "    } else if (typeof vegaEmbed === \"function\") {\n",
       "      displayChart(vegaEmbed);\n",
       "    } else {\n",
       "      loadScript(\"vega\")\n",
       "        .then(() => loadScript(\"vega-lite\"))\n",
       "        .then(() => loadScript(\"vega-embed\"))\n",
       "        .catch(showError)\n",
       "        .then(() => displayChart(vegaEmbed));\n",
       "    }\n",
       "  })({\"config\": {\"view\": {\"continuousWidth\": 400, \"continuousHeight\": 300}}, \"data\": {\"url\": \"altair-data-53ff8c0d2fd303b2126fdb263a2416af.json\", \"format\": {\"type\": \"json\"}}, \"mark\": \"circle\", \"encoding\": {\"tooltip\": [{\"type\": \"nominal\", \"field\": \"city_or_county\"}, {\"type\": \"nominal\", \"field\": \"state_abr\"}, {\"type\": \"quantitative\", \"field\": \"population\"}], \"x\": {\"type\": \"quantitative\", \"field\": \"rpt_qnt\"}, \"y\": {\"type\": \"quantitative\", \"field\": \"kill_qnt\"}}, \"height\": 250, \"title\": \"Killed Qnt by Report Qnt of US City/County\", \"width\": 500, \"$schema\": \"https://vega.github.io/schema/vega-lite/v4.8.1.json\"}, {\"mode\": \"vega-lite\"});\n",
       "</script>"
      ],
      "text/plain": [
       "alt.Chart(...)"
      ]
     },
     "execution_count": 23,
     "metadata": {},
     "output_type": "execute_result"
    }
   ],
   "source": [
    "load.spearmantest_Print(list(cico_dat.rpt_qnt), list(cico_dat.kill_qnt), 'Kill Quotient by US City/County','Gun-Crime-Report Quotient by US City/County')\n",
    "\n",
    "alt.Chart(cico_dat).mark_circle().encode(\n",
    "    x = 'rpt_qnt:Q',\n",
    "    y = 'kill_qnt:Q',\n",
    "    tooltip = ['city_or_county:N','state_abr:N', 'population:Q']\n",
    ").properties(\n",
    "    width = 500,\n",
    "    height = 250,\n",
    "    title = 'Killed Qnt by Report Qnt of US City/County'\n",
    ")"
   ]
  }
 ],
 "metadata": {
  "kernelspec": {
   "display_name": "Python 3",
   "language": "python",
   "name": "python3"
  },
  "language_info": {
   "codemirror_mode": {
    "name": "ipython",
    "version": 3
   },
   "file_extension": ".py",
   "mimetype": "text/x-python",
   "name": "python",
   "nbconvert_exporter": "python",
   "pygments_lexer": "ipython3",
   "version": "3.8.3"
  }
 },
 "nbformat": 4,
 "nbformat_minor": 4
}
